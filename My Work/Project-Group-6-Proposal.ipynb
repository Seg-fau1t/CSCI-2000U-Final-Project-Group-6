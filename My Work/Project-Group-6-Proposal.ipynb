{
 "cells": [
  {
   "cell_type": "markdown",
   "id": "ca557a0d",
   "metadata": {},
   "source": [
    "# Final Project Proposal - Group 6  #\n",
    "\n",
    "### Group Members:\n",
    "> Hamza Hassan ()\n",
    "\n",
    "> Shriraam Murugathas ()\n",
    "\n",
    "> Imran Mustafa (100786010)\n",
    "\n",
    "> Raj Shukla ()"
   ]
  },
  {
   "cell_type": "markdown",
   "id": "85b7e824",
   "metadata": {},
   "source": [
    "## Getting The Data\n",
    "\n",
    "The code that is used to retrive the data was provided by the \n",
    "\n",
    "an overveiw of the data as well as where it was gotten from, is available at https://open.toronto.ca/dataset/apartment-building-evaluation/.\n",
    "\n",
    "NOTE: Due to the data being regulerly updated this copy was created at October ‎22, ‎2021, ‏‎17:53:55\n"
   ]
  },
  {
   "cell_type": "code",
   "execution_count": 1,
   "id": "5a2451d0",
   "metadata": {},
   "outputs": [
    {
     "ename": "FileNotFoundError",
     "evalue": "[Errno 2] No such file or directory: 'Apartment Building Evaluation.csv'",
     "output_type": "error",
     "traceback": [
      "\u001b[0;31m---------------------------------------------------------------------------\u001b[0m",
      "\u001b[0;31mFileNotFoundError\u001b[0m                         Traceback (most recent call last)",
      "\u001b[0;32m/tmp/ipykernel_11/2193701875.py\u001b[0m in \u001b[0;36m<module>\u001b[0;34m\u001b[0m\n\u001b[1;32m      1\u001b[0m \u001b[0;32mimport\u001b[0m \u001b[0mpandas\u001b[0m \u001b[0;32mas\u001b[0m \u001b[0mpd\u001b[0m\u001b[0;34m\u001b[0m\u001b[0;34m\u001b[0m\u001b[0m\n\u001b[1;32m      2\u001b[0m \u001b[0;34m\u001b[0m\u001b[0m\n\u001b[0;32m----> 3\u001b[0;31m \u001b[0;32mwith\u001b[0m \u001b[0mopen\u001b[0m\u001b[0;34m(\u001b[0m\u001b[0;34m'Apartment Building Evaluation.csv'\u001b[0m\u001b[0;34m,\u001b[0m \u001b[0;34m'r'\u001b[0m\u001b[0;34m)\u001b[0m \u001b[0;32mas\u001b[0m \u001b[0mf\u001b[0m\u001b[0;34m:\u001b[0m\u001b[0;34m\u001b[0m\u001b[0;34m\u001b[0m\u001b[0m\n\u001b[0m\u001b[1;32m      4\u001b[0m     \u001b[0mdf\u001b[0m \u001b[0;34m=\u001b[0m \u001b[0mpd\u001b[0m\u001b[0;34m.\u001b[0m\u001b[0mread_csv\u001b[0m\u001b[0;34m(\u001b[0m\u001b[0;34m\"data.csv\"\u001b[0m\u001b[0;34m)\u001b[0m\u001b[0;34m\u001b[0m\u001b[0;34m\u001b[0m\u001b[0m\n\u001b[1;32m      5\u001b[0m \u001b[0mdf\u001b[0m\u001b[0;34m\u001b[0m\u001b[0;34m\u001b[0m\u001b[0m\n",
      "\u001b[0;31mFileNotFoundError\u001b[0m: [Errno 2] No such file or directory: 'Apartment Building Evaluation.csv'"
     ]
    }
   ],
   "source": [
    "import pandas as pd\n",
    "\n",
    "with open('Apartment Building Evaluation.csv', 'r') as f:\n",
    "    df = pd.read_csv(\"data.csv\")\n",
    "df"
   ]
  },
  {
   "cell_type": "code",
   "execution_count": null,
   "id": "04c9c348",
   "metadata": {},
   "outputs": [],
   "source": []
  }
 ],
 "metadata": {
  "kernelspec": {
   "display_name": "Python 3 (ipykernel)",
   "language": "python",
   "name": "python3"
  },
  "language_info": {
   "codemirror_mode": {
    "name": "ipython",
    "version": 3
   },
   "file_extension": ".py",
   "mimetype": "text/x-python",
   "name": "python",
   "nbconvert_exporter": "python",
   "pygments_lexer": "ipython3",
   "version": "3.8.12"
  }
 },
 "nbformat": 4,
 "nbformat_minor": 5
}
